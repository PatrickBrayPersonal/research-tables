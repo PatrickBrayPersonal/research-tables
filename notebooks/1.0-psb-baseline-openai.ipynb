{
 "cells": [
  {
   "cell_type": "code",
   "execution_count": 1,
   "metadata": {},
   "outputs": [
    {
     "name": "stderr",
     "output_type": "stream",
     "text": [
      "/home/brayps/.cache/pypoetry/virtualenvs/table-extract-2ivw7RXS-py3.10/lib/python3.10/site-packages/pinecone/index.py:4: TqdmExperimentalWarning: Using `tqdm.autonotebook.tqdm` in notebook mode. Use `tqdm.tqdm` instead to force console mode (e.g. in jupyter console)\n",
      "  from tqdm.autonotebook import tqdm\n"
     ]
    }
   ],
   "source": [
    "from dotenv import load_dotenv, find_dotenv\n",
    "from langchain.llms import OpenAI\n",
    "from langchain.schema import (\n",
    "    AIMessage,\n",
    "    HumanMessage,\n",
    "    SystemMessage\n",
    ")\n",
    "from langchain.chat_models import ChatOpenAI\n",
    "from langchain import PromptTemplate\n",
    "from langchain.chains import LLMChain\n",
    "from langchain.chains import SimpleSequentialChain\n",
    "from langchain.text_splitter import RecursiveCharacterTextSplitter\n",
    "from langchain.embeddings import OpenAIEmbeddings\n",
    "import os\n",
    "import pinecone\n",
    "from langchain.vectorstores import Pinecone\n",
    "from omegaconf import OmegaConf\n",
    "\n",
    "load_dotenv(find_dotenv())\n",
    "\n",
    "pinecone.init(\n",
    "    api_key=os.getenv('PINECONE_API_KEY'),  \n",
    "    environment=os.getenv('PINECONE_ENV')  \n",
    ")"
   ]
  },
  {
   "cell_type": "code",
   "execution_count": 30,
   "metadata": {},
   "outputs": [
    {
     "name": "stdout",
     "output_type": "stream",
     "text": [
      "{'doi': 1912.07383, 'columns': 'year published, research objective, key contribution'}\n"
     ]
    },
    {
     "data": {
      "text/plain": [
       "'\\nPaper: 1912.07383\\nProvide the following information (year published, research objective, key contribution) from the paper.\\nInformation in each column must be under 50 words.\\nLeave the cell blank if the result is unclear.\\nFormat the output as a markdown table\\nOutput:\\n'"
      ]
     },
     "execution_count": 30,
     "metadata": {},
     "output_type": "execute_result"
    }
   ],
   "source": [
    "# Use OpenAI for the browser\n",
    "template = \"\"\"\n",
    "Look up this paper {doi}\n",
    "Provide the following information ({columns}) from the paper. Leave the cell blank if the result is unclear.\n",
    "\"\"\" # ! this one doesn't work?\n",
    "template = \"\"\"\n",
    "Task: \n",
    "Write a comma-separated list of {columns} from the following paper. Leave the cell blank if the result is unclear.\n",
    "Paper: {doi}\n",
    "\"\"\"\n",
    "template = \"\"\"\n",
    "Paper: {doi}\n",
    "Provide the following information ({columns}) from the paper. Leave the cell blank if the result is unclear.\n",
    "\"\"\"\n",
    "template = \"\"\"\n",
    "Paper: {doi}\n",
    "Provide the following information ({columns}) from the paper.\n",
    "Information in each column must be under 50 words.\n",
    "Leave the cell blank if the result is unclear.\n",
    "Format the output as a markdown table\n",
    "Output:\n",
    "\"\"\"\n",
    "prompt = PromptTemplate(\n",
    "    input_variables=[\"columns\", \"doi\"],\n",
    "    template=template,\n",
    ")\n",
    "query = OmegaConf.load(\"query.yaml\")\n",
    "print(query)\n",
    "prompt.format(**query)"
   ]
  },
  {
   "attachments": {},
   "cell_type": "markdown",
   "metadata": {},
   "source": [
    "### Returns\n",
    ">2019, Investigate the relationship between online ratings and revenue in the restaurant industry, Establish a dynamic linear model for prediction and forecasting of online ratings and restaurant revenue.'\n",
    "\n",
    "\n",
    "- uhh that didn't work"
   ]
  },
  {
   "cell_type": "code",
   "execution_count": 31,
   "metadata": {},
   "outputs": [],
   "source": [
    "from langchain.chat_models import ChatOpenAI\n",
    "from langchain.agents import load_tools, initialize_agent, AgentType\n",
    "\n",
    "llm = ChatOpenAI(temperature=0.1)\n",
    "tools = load_tools(\n",
    "    [\"arxiv\"],\n",
    ")\n",
    "\n",
    "agent_chain = initialize_agent(\n",
    "    tools,\n",
    "    llm,\n",
    "    agent=AgentType.ZERO_SHOT_REACT_DESCRIPTION,\n",
    "    verbose=True,\n",
    ")"
   ]
  },
  {
   "cell_type": "code",
   "execution_count": 32,
   "metadata": {},
   "outputs": [
    {
     "name": "stdout",
     "output_type": "stream",
     "text": [
      "\n",
      "\n",
      "\u001b[1m> Entering new AgentExecutor chain...\u001b[0m\n",
      "\u001b[32;1m\u001b[1;3mI should use the arxiv tool to search for the paper and extract the required information.\n",
      "Action: arxiv\n",
      "Action Input: 1912.07383\u001b[0m\n",
      "Observation: \u001b[36;1m\u001b[1;3mPublished: 2019-12-12\n",
      "Title: A Survey of Predictive Maintenance: Systems, Purposes and Approaches\n",
      "Authors: Yongyi Ran, Xin Zhou, Pengfeng Lin, Yonggang Wen, Ruilong Deng\n",
      "Summary: This paper provides a comprehensive literature review on Predictive\n",
      "Maintenance (PdM) with emphasis on system architectures, purposes and\n",
      "approaches. In industry, any outages and unplanned downtime of machines or\n",
      "systems would degrade or interrupt a company's core business, potentially\n",
      "resulting in significant penalties and unmeasurable reputation loss. Existing\n",
      "traditional maintenance approaches suffer from some assumptions and limits,\n",
      "such as high prevent/repair costs, inadequate or inaccurate mathematical\n",
      "degradation processes and manual feature extraction. With the trend of smart\n",
      "manufacturing and development of Internet of Things (IoT), data mining and\n",
      "Artificial Intelligence (AI), etc., PdM is proposed as a novel type of\n",
      "maintenance paradigm to perform maintenances only after the analytical models\n",
      "predict certain failures or degradations. In this survey, we first provide a\n",
      "high-level view of the PdM system architectures including the Open System\n",
      "Architecture for Condition Based Monitoring (OSA-CBM), cloud-enhanced PdM\n",
      "system and PdM 4.0, etc. Then, we make clear the specific maintenance\n",
      "purposes/objectives, which mainly comprise cost minimization,\n",
      "availability/reliability maximization and multi-objective optimization.\n",
      "Furthermore, we provide a review of the existing approaches for fault diagnosis\n",
      "and prognosis in PdM systems that include three major subcategories: knowledge\n",
      "based, traditional Machine Learning (ML) based and DL based approaches. We make\n",
      "a brief review on the knowledge based and traditional ML based approaches\n",
      "applied in diverse industrial systems or components with a complete list of\n",
      "references, while providing a comprehensive review of DL based approaches.\n",
      "Finally, important future research directions are introduced.\n",
      "\n",
      "Published: 2021-10-11\n",
      "Title: A Survey on Proactive Customer Care: Enabling Science and Steps to Realize it\n",
      "Authors: Viswanath Ganapathy, Sauptik Dhar, Olimpiya Saha, Pelin Kurt Garberson, Javad Heydari, Mohak Shah\n",
      "Summary: In recent times, advances in artificial intelligence (AI) and IoT have\n",
      "enabled seamless and viable maintenance of appliances in home and building\n",
      "environments. Several studies have shown that AI has the potential to provide\n",
      "personalized customer support which could predict and avoid errors more\n",
      "reliably than ever before. In this paper, we have analyzed the various building\n",
      "blocks needed to enable a successful AI-driven predictive maintenance use-case.\n",
      "Unlike, existing surveys which mostly provide a deep dive into the recent AI\n",
      "algorithms for Predictive Maintenance (PdM), our survey provides the complete\n",
      "view; starting from business impact to recent technology advancements in\n",
      "algorithms as well as systems research and model deployment. Furthermore, we\n",
      "provide exemplar use-cases on predictive maintenance of appliances using\n",
      "publicly available data sets. Our survey can serve as a template needed to\n",
      "design a successful predictive maintenance use-case. Finally, we touch upon\n",
      "existing public data sources and provide a step-wise breakdown of an AI-driven\n",
      "proactive customer care (PCC) use-case, starting from generic anomaly detection\n",
      "to fault prediction and finally root-cause analysis. We highlight how such a\n",
      "step-wise approach can be advantageous for accurate model building and helpful\n",
      "for gaining insights into predictive maintenance of electromechanical\n",
      "appliances.\u001b[0m\n",
      "Thought:\u001b[32;1m\u001b[1;3mI have extracted the required information from the paper.\n",
      "Final Answer: \n",
      "\n",
      "| Year Published | Research Objective | Key Contribution |\n",
      "|----------------|--------------------|------------------|\n",
      "| 2019           | Predictive Maintenance | A comprehensive literature review on Predictive Maintenance (PdM) with emphasis on system architectures, purposes, and approaches. Provides a high-level view of PdM system architectures, maintenance purposes/objectives, and a review of fault diagnosis and prognosis approaches in PdM systems. Introduces future research directions. |\u001b[0m\n",
      "\n",
      "\u001b[1m> Finished chain.\u001b[0m\n"
     ]
    }
   ],
   "source": [
    "res = agent_chain.run(\n",
    "    prompt.format(**query)\n",
    ")"
   ]
  },
  {
   "cell_type": "code",
   "execution_count": 33,
   "metadata": {},
   "outputs": [
    {
     "name": "stdout",
     "output_type": "stream",
     "text": [
      "| Year Published | Research Objective | Key Contribution |\n",
      "|----------------|--------------------|------------------|\n",
      "| 2019           | Predictive Maintenance | A comprehensive literature review on Predictive Maintenance (PdM) with emphasis on system architectures, purposes, and approaches. Provides a high-level view of PdM system architectures, maintenance purposes/objectives, and a review of fault diagnosis and prognosis approaches in PdM systems. Introduces future research directions. |\n"
     ]
    }
   ],
   "source": [
    "print(res)"
   ]
  },
  {
   "cell_type": "code",
   "execution_count": null,
   "metadata": {},
   "outputs": [],
   "source": []
  }
 ],
 "metadata": {
  "kernelspec": {
   "display_name": "table-extract-2ivw7RXS-py3.10",
   "language": "python",
   "name": "python3"
  },
  "language_info": {
   "codemirror_mode": {
    "name": "ipython",
    "version": 3
   },
   "file_extension": ".py",
   "mimetype": "text/x-python",
   "name": "python",
   "nbconvert_exporter": "python",
   "pygments_lexer": "ipython3",
   "version": "3.10.10"
  },
  "orig_nbformat": 4
 },
 "nbformat": 4,
 "nbformat_minor": 2
}
