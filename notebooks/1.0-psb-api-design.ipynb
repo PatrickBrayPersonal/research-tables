{
 "cells": [
  {
   "cell_type": "code",
   "execution_count": 3,
   "metadata": {},
   "outputs": [],
   "source": [
    "from omegaconf import OmegaConf"
   ]
  },
  {
   "cell_type": "code",
   "execution_count": 8,
   "metadata": {},
   "outputs": [
    {
     "data": {
      "text/plain": [
       "{'doi': ['https://doi.org/10.1016/j.ifacol.2019.11.226', 'https://doi.org/10.1016/j.jmsy.2017.09.003'], 'columns': ['Year Published', 'research objective', 'key contributions', 'Github Repository', 'Github Repository Stars']}"
      ]
     },
     "execution_count": 8,
     "metadata": {},
     "output_type": "execute_result"
    }
   ],
   "source": [
    "query = OmegaConf.load(\"query.yaml\")\n",
    "query"
   ]
  },
  {
   "cell_type": "code",
   "execution_count": 7,
   "metadata": {},
   "outputs": [
    {
     "data": {
      "text/plain": [
       "{'doi': ['https://doi.org/10.1016/j.ifacol.2019.11.226', 'https://doi.org/10.1016/j.jmsy.2017.09.003'], 'columns': ['Year Published', 'research objective', 'key contributions', 'Github Repository', 'Github Repository Stars']}"
      ]
     },
     "execution_count": 7,
     "metadata": {},
     "output_type": "execute_result"
    }
   ],
   "source": [
    "query"
   ]
  },
  {
   "cell_type": "code",
   "execution_count": 10,
   "metadata": {},
   "outputs": [
    {
     "name": "stdout",
     "output_type": "stream",
     "text": [
      "Year Published: None\n",
      "Research Objective: None\n",
      "Year Published: None\n",
      "Research Objective: None\n"
     ]
    }
   ],
   "source": [
    "import requests\n",
    "\n",
    "dois = [\n",
    "    \"https://doi.org/10.1016/j.ifacol.2019.11.226\",\n",
    "    \"https://doi.org/10.1016/j.jmsy.2017.09.003\",\n",
    "]\n",
    "\n",
    "headers = {\"x-api-key\": \"YOUR_API_KEY\"}\n",
    "\n",
    "for doi in dois:\n",
    "    response = requests.get(\n",
    "        f\"https://api.semanticscholar.org/v1/paper/{doi}\", headers=headers\n",
    "    )\n",
    "    paper = response.json()\n",
    "    print(f\"Year Published: {paper.get('year')}\")\n",
    "    print(f\"Research Objective: {paper.get('abstract')}\")\n",
    "    # Additional extraction code for 'key contributions', 'Github Repository', 'Github Repository Stars'\n",
    "    # will likely require custom logic or additional resources"
   ]
  },
  {
   "cell_type": "code",
   "execution_count": null,
   "metadata": {},
   "outputs": [],
   "source": []
  }
 ],
 "metadata": {
  "kernelspec": {
   "display_name": "table-extract-2ivw7RXS-py3.10",
   "language": "python",
   "name": "python3"
  },
  "language_info": {
   "codemirror_mode": {
    "name": "ipython",
    "version": 3
   },
   "file_extension": ".py",
   "mimetype": "text/x-python",
   "name": "python",
   "nbconvert_exporter": "python",
   "pygments_lexer": "ipython3",
   "version": "3.10.10"
  },
  "orig_nbformat": 4
 },
 "nbformat": 4,
 "nbformat_minor": 2
}
