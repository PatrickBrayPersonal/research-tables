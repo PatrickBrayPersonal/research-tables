{
 "cells": [
  {
   "cell_type": "code",
   "execution_count": null,
   "metadata": {},
   "outputs": [],
   "source": [
    "import mlflow\n",
    "from sklearn.linear_model import LogisticRegression\n",
    "from sklearn.pipeline import Pipeline\n",
    "from sklearn.preprocessing import StandardScaler\n",
    "\n",
    "from your_package.data.read import file_to_df\n",
    "from your_package.data.transform import drop_pattern\n",
    "from your_package.data.write import df_to_file\n",
    "from your_package.data.features import pattern_std\n",
    "from your_package.model.train_model import train_model\n",
    "from your_package.utils import pipeline_to_name\n",
    "from your_package.model.evaluators import evaluate_binary_class"
   ]
  },
  {
   "cell_type": "code",
   "execution_count": null,
   "metadata": {},
   "outputs": [],
   "source": [
    "df = file_to_df(\"../data/pdm/raw/PredictiveManteinanceEngineTraining.csv\")\n",
    "df = drop_pattern(df, \"setting.*\")\n",
    "df[\"s_std\"] = pattern_std(df, \"s[0-9][0-9]?\")\n",
    "df_to_file(df, \"../data/processed/PredictiveManteinanceEngineTraining.csv\")\n",
    "\n",
    "print(\"complete\")\n",
    "\n",
    "model = Pipeline([(\"scaler\", StandardScaler()), (\"classifier\", LogisticRegression())])\n",
    "with mlflow.start_run(run_name=pipeline_to_name(model)) as run:\n",
    "    model = train_model(\n",
    "        model, df.drop([\"label1\", \"label2\", \"RUL\"], axis=1), df[\"label1\"]\n",
    "    )\n",
    "    evaluate_binary_class(\n",
    "        model, X=df.drop([\"label1\", \"label2\", \"RUL\"], axis=1), y=df[\"label1\"]\n",
    "    )\n",
    "mlflow.end_run()"
   ]
  }
 ],
 "metadata": {
  "kernelspec": {
   "display_name": "env",
   "language": "python",
   "name": "python3"
  },
  "language_info": {
   "codemirror_mode": {
    "name": "ipython",
    "version": 3
   },
   "file_extension": ".py",
   "mimetype": "text/x-python",
   "name": "python",
   "nbconvert_exporter": "python",
   "pygments_lexer": "ipython3",
   "version": "3.9.16"
  },
  "orig_nbformat": 4
 },
 "nbformat": 4,
 "nbformat_minor": 2
}
