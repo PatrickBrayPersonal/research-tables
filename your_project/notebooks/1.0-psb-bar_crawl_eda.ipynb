{
 "cells": [
  {
   "cell_type": "code",
   "execution_count": null,
   "metadata": {},
   "outputs": [],
   "source": [
    "from your_package.data.read import file_to_df\n",
    "import os\n",
    "from pathlib import Path\n",
    "import pandas as pd\n",
    "\n",
    "os.chdir(\"/home/brayps/Documents/GitHub/your_package\")"
   ]
  },
  {
   "cell_type": "code",
   "execution_count": null,
   "metadata": {},
   "outputs": [],
   "source": [
    "acc = file_to_df(\"data/bar_crawl/raw/all_accelerometer_data_pids_13.csv\")"
   ]
  },
  {
   "cell_type": "code",
   "execution_count": null,
   "metadata": {},
   "outputs": [],
   "source": [
    "path = Path(\"data/bar_crawl/raw/clean_tac\")\n",
    "dfs = []\n",
    "for f in os.listdir(path):\n",
    "    df = file_to_df(str(path / f))\n",
    "    df[\"pid\"] = f[0:6]\n",
    "    dfs.append(df)\n",
    "tac = pd.concat(dfs, ignore_index=True)"
   ]
  },
  {
   "cell_type": "code",
   "execution_count": null,
   "metadata": {},
   "outputs": [],
   "source": [
    "acc.head()"
   ]
  },
  {
   "cell_type": "code",
   "execution_count": null,
   "metadata": {},
   "outputs": [],
   "source": [
    "tac_agg = tac.groupby(\"pid\")[\"TAC_Reading\"].max()\n",
    "acc_agg = acc.groupby(\"pid\")[[\"x\", \"y\", \"z\"]].mean()\n",
    "acc_agg"
   ]
  },
  {
   "cell_type": "code",
   "execution_count": null,
   "metadata": {},
   "outputs": [],
   "source": [
    "pd.merge(acc_agg, tac_agg, left_on=\"pid\", right_index=True)"
   ]
  },
  {
   "cell_type": "code",
   "execution_count": null,
   "metadata": {},
   "outputs": [],
   "source": []
  }
 ],
 "metadata": {
  "kernelspec": {
   "display_name": "env",
   "language": "python",
   "name": "python3"
  },
  "language_info": {
   "codemirror_mode": {
    "name": "ipython",
    "version": 3
   },
   "file_extension": ".py",
   "mimetype": "text/x-python",
   "name": "python",
   "nbconvert_exporter": "python",
   "pygments_lexer": "ipython3",
   "version": "3.9.16"
  },
  "orig_nbformat": 4
 },
 "nbformat": 4,
 "nbformat_minor": 2
}
